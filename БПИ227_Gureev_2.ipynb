{
  "nbformat": 4,
  "nbformat_minor": 0,
  "metadata": {
    "colab": {
      "provenance": [],
      "collapsed_sections": [
        "ujOEYO2Iw42V"
      ]
    },
    "kernelspec": {
      "name": "python3",
      "display_name": "Python 3"
    },
    "language_info": {
      "name": "python"
    }
  },
  "cells": [
    {
      "cell_type": "markdown",
      "source": [
        "# ИДЗ №2. Вариант 7. Гуреев Александр, БПИ227"
      ],
      "metadata": {
        "id": "ssaB05wJtzm2"
      }
    },
    {
      "cell_type": "markdown",
      "source": [
        "## Условие задачи"
      ],
      "metadata": {
        "id": "Lr-X6AUqt9ch"
      }
    },
    {
      "cell_type": "markdown",
      "source": [
        "При определении прочности стержня на разрыв испытывались 8 образцов типа `А` и образцов типа `В`. В результате испытаний получены следующие значения усилия разрыва (в кг) для образцов типа `А`:  \n",
        "500; 510; 545; 600; 560; 530; 525; 540.   \n",
        "Для образцов типа `В`:   \n",
        "580; 590; 605; 545; 595; 574.  \n",
        "Можно ли считать на уровне значимости `0.01`, что прочность стержня образцов типа `А` в среднем ниже, чем у образцов типа `В`? Решите задачу, предполагая, что:  \n",
        "а) распределение контролируемого признака нормальное;  \n",
        "б) распределение контролируемого признака неизвестно."
      ],
      "metadata": {
        "id": "kL_qq9qpuCLp"
      }
    },
    {
      "cell_type": "markdown",
      "source": [
        "## Решение задачи"
      ],
      "metadata": {
        "id": "XI069Dy8t_mK"
      }
    },
    {
      "cell_type": "markdown",
      "source": [
        "### 1. Подгрузим библиотеки"
      ],
      "metadata": {
        "id": "cHetEYUbxUIf"
      }
    },
    {
      "cell_type": "code",
      "source": [
        "import scipy as sc\n",
        "from statistics import variance\n",
        "from scipy.stats import t\n",
        "from typing import *"
      ],
      "metadata": {
        "id": "rShW-FShxTzi"
      },
      "execution_count": null,
      "outputs": []
    },
    {
      "cell_type": "markdown",
      "source": [
        "### 2. Занесем данные в списки"
      ],
      "metadata": {
        "id": "SWWQbmvowLXT"
      }
    },
    {
      "cell_type": "code",
      "execution_count": null,
      "metadata": {
        "id": "BcdBUAt5tw88"
      },
      "outputs": [],
      "source": [
        "alpha = 0.01 # обозначим уровень значимости\n",
        "\n",
        "v1 = [500, 510, 545, 600, 560, 530, 525, 540] # заносим в список значения образца А\n",
        "len_v1 = len(v1) # вычисляем кол-во испытаний образца А\n",
        "\n",
        "v2 = [580, 590, 605, 545, 595, 574] # заносим в список значения образца В\n",
        "len_v2 = len(v2) # вычисляем кол-во испытаний образца В"
      ]
    },
    {
      "cell_type": "markdown",
      "source": [
        "### 3. Определимся с критериями  "
      ],
      "metadata": {
        "id": "ujOEYO2Iw42V"
      }
    },
    {
      "cell_type": "markdown",
      "source": [
        "- Для решения пункта `а` используем критерий Стьюдента, так как распределения нормальные и их дисперсии равны.\n",
        "\n",
        "- Для решения пункта `б` будем использовать критерий Вилкоксона."
      ],
      "metadata": {
        "id": "i4asdrZiyDJY"
      }
    },
    {
      "cell_type": "markdown",
      "source": [
        "### 4. Формулы и расчеты"
      ],
      "metadata": {
        "id": "T_ExFHur1bsw"
      }
    },
    {
      "cell_type": "markdown",
      "source": [
        "#### Пункт а."
      ],
      "metadata": {
        "id": "SDpawjU4_TuS"
      }
    },
    {
      "cell_type": "markdown",
      "source": [
        "Допустим, что выборки независимы и имеют равные дисперсии.\n",
        "\n",
        "Дано:  \n",
        "$V_1m \\sim N(\\mu_{v_1}, \\sigma_{v_1}^2)$  \n",
        "$V_2n \\sim N(\\mu_{v_2}, \\sigma_{v_2}^2)$  \n",
        "Так как у нас равные дисперсии (мы это допустили для применения критерия Стьюдента), то $\\sigma_{v_1}^2=\\sigma_{v_2}^2=\\sigma^2$\n",
        "\n",
        "Составим гипотезы:\n",
        "\n",
        "1) $H_0: \\mu_{v_1} = \\mu_{v_2}$, $H_1: \\mu_{v_1} < \\mu_{v_2}$\n",
        "\n",
        "2) $\\alpha = 0.01$ (дано по условию)  \n",
        "\n",
        "Используем тестовую статистику:\n",
        "\n",
        "$$T(V_1,V_2) = \\frac{\\overline\\theta - E(\\overline\\theta)}{D(\\overline\\theta)} = \\frac{(\\overline \\mu_{v_2}-\\overline \\mu_{v_1}) - (\\mu_{v_2}-\\mu_{v_1})}{\\sqrt{\\frac{m+n}{mn}\\cdot\\frac{n\\overline\\sigma_{v_1}^2 + m\\overline\\sigma_{v_2}^2}{n+m-2}}}$$\n",
        "\n",
        "$$T(V_1,V_2)\\Big|_{H_0} = \\frac{\\overline \\mu_{v_2}-\\overline \\mu_{v_1}}{\\sqrt{\\frac{m+n}{mn}\\cdot\\frac{n\\overline\\sigma_{v_2}^2 + m\\overline\\sigma_{v_1}^2}{n+m-2}}}\\sim t(n+m-2)$$\n",
        "\n",
        "Доверительный интервал: $$P\\Big\\{t_{\\alpha/2}(n+m-2) < T(V_1,V_2) < t_{1-\\alpha/2}(n+m-2)\\Big\\} = 1 - \\alpha$$"
      ],
      "metadata": {
        "id": "wGiyG43W5Bg-"
      }
    },
    {
      "cell_type": "code",
      "source": [
        "# Первая выборка\n",
        "m_v1 = sum(v1) / len_v1 # среднее арифмитическое первого\n",
        "print(f'Среднее арифм. для образца А: {m_v1}')\n",
        "d_v1 = variance(v1) # выборочная дисперсия первого\n",
        "print(f\"Выборочная дисперсия для образца A: {d_v1}\")\n",
        "\n",
        "print('\\n')\n",
        "# Вторая выборка\n",
        "m_v2 = sum(v2) / len_v2 # среднее арифмитическое второго\n",
        "print(f'Среднее арифм. для образца А: {m_v2}')\n",
        "d_v2 = variance(v2) # выборочная дисперсия второго\n",
        "print(f\"Выборочная дисперсия для образца В: {d_v2}\")\n",
        "\n",
        "print('\\n')\n",
        "# Используем тестовую статистику\n",
        "T =  (m_v2 - m_v1) / ((len_v1+len_v2)/(len_v1*len_v2) * (len_v2*d_v2 + len_v1*d_v1)/(len_v2+len_v1-2)) ** 0.5\n",
        "print(f'Наблюдаемое значение тестовой статистики: {T}')\n",
        "\n",
        "# Найдем дов. интервал\n",
        "interval = [t.ppf(alpha/2, len_v2+len_v1-2), t.ppf(1-alpha/2, len_v2+len_v1-2)]\n",
        "print(f'Доверительный интервал: {interval}')\n",
        "\n",
        "print('\\n')\n",
        "if interval[0] <= T <= interval[1]:\n",
        "  print('Основная гипотеза H_0 не отвергнута.')\n",
        "else:\n",
        "  print('Основная гипотеза H_0 отвергнута в сторону H_1.')"
      ],
      "metadata": {
        "colab": {
          "base_uri": "https://localhost:8080/"
        },
        "id": "pjy0_MR_5CqG",
        "outputId": "53391d06-6728-4084-b5e1-f87f9b04e22f"
      },
      "execution_count": null,
      "outputs": [
        {
          "output_type": "stream",
          "name": "stdout",
          "text": [
            "Среднее арифм. для образца А: 538.75\n",
            "Выборочная дисперсия для образца A: 976.7857142857143\n",
            "\n",
            "\n",
            "Среднее арифм. для образца А: 581.5\n",
            "Выборочная дисперсия для образца В: 439.5\n",
            "\n",
            "\n",
            "Наблюдаемое значение тестовой статистики: 2.682245236451704\n",
            "Доверительный интервал: [-3.054539588336871, 3.0545395883368704]\n",
            "\n",
            "\n",
            "Основная гипотеза H_0 не отвергнута.\n"
          ]
        }
      ]
    },
    {
      "cell_type": "markdown",
      "source": [
        "#### Пункт б."
      ],
      "metadata": {
        "id": "NzIcc3fZ_Z4F"
      }
    },
    {
      "cell_type": "markdown",
      "source": [
        "Допустим, что выборки независимы.\n",
        "\n",
        "Дано:\n",
        "${V_{1}}_m \\sim F(t)$, ${V_{2}}_n \\sim F(t-\\theta)$\n",
        "\n",
        "$$T({V_{1}},{V_{2}}) = W_{m,n} = \\sum_{i=1}^{n} R_i \\text{, где $R_i$ ранг $Y_i$ в объед. выборке}$$\n",
        "\n",
        "$$T({V_{1}},{V_{2}})\\Big|_{H_0} \\sim W(m,n)$$\n",
        "\n",
        "Доверительный интервал: $$P\\Big\\{\\min W(m,n) < T({V_{1}},{V_{2}}) < W_{1-\\alpha/2}(m,n)\\Big\\} = 1 - \\alpha$$\n"
      ],
      "metadata": {
        "id": "t0CwoOxv_cVU"
      }
    },
    {
      "cell_type": "markdown",
      "source": [
        "Так как объемы выборок 6 и 8, найдем в таблице критическую точку критерия Вилкоксона."
      ],
      "metadata": {
        "id": "FIt2yhjaLYE9"
      }
    },
    {
      "cell_type": "markdown",
      "source": [
        "![image.png](data:image/png;base64,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)"
      ],
      "metadata": {
        "id": "78B7xT1NK6mt"
      }
    },
    {
      "cell_type": "code",
      "source": [
        "# Функция для подсчета суммы рангов\n",
        "def ranked(arr1: list, arr2: list):\n",
        "    v1 = [(num, 'v1') for num in arr1]\n",
        "    v2 = [(num, 'v2') for num in arr2]\n",
        "    arr = sorted(v1 + v2, key=lambda pair: pair[0])\n",
        "    ranks = []\n",
        "    for pair in arr:\n",
        "        if pair[1] == 'v2':\n",
        "            idxs = [i + 1 for i, p in enumerate(arr) if p[0] == pair[0]]\n",
        "            rank = sum(idxs) / len(idxs)\n",
        "            ranks.append(rank)\n",
        "    return sum(ranks)\n",
        "\n",
        "W = ranked(v1, v2)\n",
        "print(f'Статистика критерия Вилкоксона: {W}')\n",
        "\n",
        "min_W = len_v2/2*(len_v2+1)\n",
        "t_W = 25 # данные из таблички\n",
        "interval_W = [min_W,t_W]\n",
        "print(f'Доверительный W-интервал: {interval_W}')\n",
        "\n",
        "if interval_W[0] <= W <= interval_W[1]:\n",
        "  print('Основная гипотеза H_0 не отвергнута.')\n",
        "else:\n",
        "  print('Основная гипотеза H_0 отвергнута в сторону H_1.')"
      ],
      "metadata": {
        "colab": {
          "base_uri": "https://localhost:8080/"
        },
        "id": "ZULq0fLoBwW0",
        "outputId": "c513235f-dda3-47ef-f79e-5bd54ff0d789"
      },
      "execution_count": null,
      "outputs": [
        {
          "output_type": "stream",
          "name": "stdout",
          "text": [
            "Статистика критерия Вилкоксона: 62.5\n",
            "Доверительный W-интервал: [21.0, 25]\n",
            "Основная гипотеза H_0 отвергнута в сторону H_1.\n"
          ]
        }
      ]
    }
  ]
}